{
 "cells": [
  {
   "cell_type": "code",
   "execution_count": 1,
   "id": "a099464b",
   "metadata": {},
   "outputs": [],
   "source": [
    "import pandas as pd\n",
    "import numpy as np\n"
   ]
  },
  {
   "cell_type": "markdown",
   "id": "b03afadd",
   "metadata": {},
   "source": [
    "# basic datatypes of pandas:\n",
    "    1. series\n",
    "    2. dataframe"
   ]
  },
  {
   "cell_type": "markdown",
   "id": "c9a1378c",
   "metadata": {},
   "source": [
    "creating series:"
   ]
  },
  {
   "cell_type": "code",
   "execution_count": 2,
   "id": "337f51fe",
   "metadata": {},
   "outputs": [],
   "source": [
    "s = pd.Series([1, 2, 3, np.nan, 6, 7])"
   ]
  },
  {
   "cell_type": "code",
   "execution_count": 3,
   "id": "e89ce4d3",
   "metadata": {},
   "outputs": [
    {
     "data": {
      "text/plain": [
       "0    1.0\n",
       "1    2.0\n",
       "2    3.0\n",
       "3    NaN\n",
       "4    6.0\n",
       "5    7.0\n",
       "dtype: float64"
      ]
     },
     "execution_count": 3,
     "metadata": {},
     "output_type": "execute_result"
    }
   ],
   "source": [
    "s"
   ]
  },
  {
   "cell_type": "markdown",
   "id": "9a548009",
   "metadata": {},
   "source": [
    "creating DataFrame"
   ]
  },
  {
   "cell_type": "code",
   "execution_count": 4,
   "id": "02d5c032",
   "metadata": {},
   "outputs": [],
   "source": [
    "dates = pd.date_range('2002-05-05', periods=6,)"
   ]
  },
  {
   "cell_type": "code",
   "execution_count": 5,
   "id": "c2af1a16",
   "metadata": {},
   "outputs": [
    {
     "data": {
      "text/plain": [
       "DatetimeIndex(['2002-05-05', '2002-05-06', '2002-05-07', '2002-05-08',\n",
       "               '2002-05-09', '2002-05-10'],\n",
       "              dtype='datetime64[ns]', freq='D')"
      ]
     },
     "execution_count": 5,
     "metadata": {},
     "output_type": "execute_result"
    }
   ],
   "source": [
    "dates"
   ]
  },
  {
   "cell_type": "code",
   "execution_count": 8,
   "id": "4d164505",
   "metadata": {},
   "outputs": [],
   "source": [
    "dataset = pd.DataFrame(np.random.randn(6, 4) , index= dates, columns= list('ABCD'))"
   ]
  },
  {
   "cell_type": "code",
   "execution_count": 9,
   "id": "2cba5b25",
   "metadata": {},
   "outputs": [
    {
     "data": {
      "text/html": [
       "<div>\n",
       "<style scoped>\n",
       "    .dataframe tbody tr th:only-of-type {\n",
       "        vertical-align: middle;\n",
       "    }\n",
       "\n",
       "    .dataframe tbody tr th {\n",
       "        vertical-align: top;\n",
       "    }\n",
       "\n",
       "    .dataframe thead th {\n",
       "        text-align: right;\n",
       "    }\n",
       "</style>\n",
       "<table border=\"1\" class=\"dataframe\">\n",
       "  <thead>\n",
       "    <tr style=\"text-align: right;\">\n",
       "      <th></th>\n",
       "      <th>A</th>\n",
       "      <th>B</th>\n",
       "      <th>C</th>\n",
       "      <th>D</th>\n",
       "    </tr>\n",
       "  </thead>\n",
       "  <tbody>\n",
       "    <tr>\n",
       "      <th>2002-05-05</th>\n",
       "      <td>-0.248035</td>\n",
       "      <td>-0.789981</td>\n",
       "      <td>0.050096</td>\n",
       "      <td>0.226938</td>\n",
       "    </tr>\n",
       "    <tr>\n",
       "      <th>2002-05-06</th>\n",
       "      <td>1.868646</td>\n",
       "      <td>1.116873</td>\n",
       "      <td>2.090270</td>\n",
       "      <td>0.983982</td>\n",
       "    </tr>\n",
       "    <tr>\n",
       "      <th>2002-05-07</th>\n",
       "      <td>0.767246</td>\n",
       "      <td>-0.654540</td>\n",
       "      <td>-0.111086</td>\n",
       "      <td>0.752673</td>\n",
       "    </tr>\n",
       "    <tr>\n",
       "      <th>2002-05-08</th>\n",
       "      <td>-0.994385</td>\n",
       "      <td>0.559117</td>\n",
       "      <td>0.389748</td>\n",
       "      <td>-1.748783</td>\n",
       "    </tr>\n",
       "    <tr>\n",
       "      <th>2002-05-09</th>\n",
       "      <td>-0.164367</td>\n",
       "      <td>2.571907</td>\n",
       "      <td>0.443770</td>\n",
       "      <td>0.218333</td>\n",
       "    </tr>\n",
       "    <tr>\n",
       "      <th>2002-05-10</th>\n",
       "      <td>0.644833</td>\n",
       "      <td>-2.424382</td>\n",
       "      <td>-0.432361</td>\n",
       "      <td>0.338548</td>\n",
       "    </tr>\n",
       "  </tbody>\n",
       "</table>\n",
       "</div>"
      ],
      "text/plain": [
       "                   A         B         C         D\n",
       "2002-05-05 -0.248035 -0.789981  0.050096  0.226938\n",
       "2002-05-06  1.868646  1.116873  2.090270  0.983982\n",
       "2002-05-07  0.767246 -0.654540 -0.111086  0.752673\n",
       "2002-05-08 -0.994385  0.559117  0.389748 -1.748783\n",
       "2002-05-09 -0.164367  2.571907  0.443770  0.218333\n",
       "2002-05-10  0.644833 -2.424382 -0.432361  0.338548"
      ]
     },
     "execution_count": 9,
     "metadata": {},
     "output_type": "execute_result"
    }
   ],
   "source": [
    "dataset"
   ]
  },
  {
   "cell_type": "markdown",
   "id": "9916b746",
   "metadata": {},
   "source": [
    "Creating DataFrame from Dictionary"
   ]
  },
  {
   "cell_type": "code",
   "execution_count": 12,
   "id": "8015a7db",
   "metadata": {},
   "outputs": [],
   "source": [
    "df = pd.DataFrame(\n",
    "    {\n",
    "        'A':1.0,\n",
    "        'B':pd.Timestamp('20020505'),\n",
    "        'C':pd.Series(1, index=list(range(4)), dtype='float32'),\n",
    "        'D':np.array([3] * 4, dtype='int32'),\n",
    "        'E':pd.Categorical(['test', 'train', 'test', 'train']),\n",
    "        'F':'FOO'\n",
    "    }\n",
    ")"
   ]
  },
  {
   "cell_type": "code",
   "execution_count": 13,
   "id": "724b6ec7",
   "metadata": {},
   "outputs": [
    {
     "data": {
      "text/html": [
       "<div>\n",
       "<style scoped>\n",
       "    .dataframe tbody tr th:only-of-type {\n",
       "        vertical-align: middle;\n",
       "    }\n",
       "\n",
       "    .dataframe tbody tr th {\n",
       "        vertical-align: top;\n",
       "    }\n",
       "\n",
       "    .dataframe thead th {\n",
       "        text-align: right;\n",
       "    }\n",
       "</style>\n",
       "<table border=\"1\" class=\"dataframe\">\n",
       "  <thead>\n",
       "    <tr style=\"text-align: right;\">\n",
       "      <th></th>\n",
       "      <th>A</th>\n",
       "      <th>B</th>\n",
       "      <th>C</th>\n",
       "      <th>D</th>\n",
       "      <th>E</th>\n",
       "      <th>F</th>\n",
       "    </tr>\n",
       "  </thead>\n",
       "  <tbody>\n",
       "    <tr>\n",
       "      <th>0</th>\n",
       "      <td>1.0</td>\n",
       "      <td>2002-05-05</td>\n",
       "      <td>1.0</td>\n",
       "      <td>3</td>\n",
       "      <td>test</td>\n",
       "      <td>FOO</td>\n",
       "    </tr>\n",
       "    <tr>\n",
       "      <th>1</th>\n",
       "      <td>1.0</td>\n",
       "      <td>2002-05-05</td>\n",
       "      <td>1.0</td>\n",
       "      <td>3</td>\n",
       "      <td>train</td>\n",
       "      <td>FOO</td>\n",
       "    </tr>\n",
       "    <tr>\n",
       "      <th>2</th>\n",
       "      <td>1.0</td>\n",
       "      <td>2002-05-05</td>\n",
       "      <td>1.0</td>\n",
       "      <td>3</td>\n",
       "      <td>test</td>\n",
       "      <td>FOO</td>\n",
       "    </tr>\n",
       "    <tr>\n",
       "      <th>3</th>\n",
       "      <td>1.0</td>\n",
       "      <td>2002-05-05</td>\n",
       "      <td>1.0</td>\n",
       "      <td>3</td>\n",
       "      <td>train</td>\n",
       "      <td>FOO</td>\n",
       "    </tr>\n",
       "  </tbody>\n",
       "</table>\n",
       "</div>"
      ],
      "text/plain": [
       "     A          B    C  D      E    F\n",
       "0  1.0 2002-05-05  1.0  3   test  FOO\n",
       "1  1.0 2002-05-05  1.0  3  train  FOO\n",
       "2  1.0 2002-05-05  1.0  3   test  FOO\n",
       "3  1.0 2002-05-05  1.0  3  train  FOO"
      ]
     },
     "execution_count": 13,
     "metadata": {},
     "output_type": "execute_result"
    }
   ],
   "source": [
    "df"
   ]
  },
  {
   "cell_type": "markdown",
   "id": "886a6134",
   "metadata": {},
   "source": [
    "All column having different datatype in dataframe .\n",
    "but in series all element having different datatype"
   ]
  },
  {
   "cell_type": "code",
   "execution_count": 14,
   "id": "995de9e5",
   "metadata": {},
   "outputs": [
    {
     "data": {
      "text/plain": [
       "A           float64\n",
       "B    datetime64[ns]\n",
       "C           float32\n",
       "D             int32\n",
       "E          category\n",
       "F            object\n",
       "dtype: object"
      ]
     },
     "execution_count": 14,
     "metadata": {},
     "output_type": "execute_result"
    }
   ],
   "source": [
    "df.dtypes"
   ]
  },
  {
   "cell_type": "code",
   "execution_count": 15,
   "id": "eb3d69ba",
   "metadata": {},
   "outputs": [
    {
     "data": {
      "text/plain": [
       "0    1.0\n",
       "1    1.0\n",
       "2    1.0\n",
       "3    1.0\n",
       "Name: A, dtype: float64"
      ]
     },
     "execution_count": 15,
     "metadata": {},
     "output_type": "execute_result"
    }
   ],
   "source": [
    "df.A"
   ]
  },
  {
   "cell_type": "code",
   "execution_count": 16,
   "id": "44aba565",
   "metadata": {},
   "outputs": [
    {
     "data": {
      "text/plain": [
       "<bound method NDFrame.abs of      A          B    C  D      E    F\n",
       "0  1.0 2002-05-05  1.0  3   test  FOO\n",
       "1  1.0 2002-05-05  1.0  3  train  FOO\n",
       "2  1.0 2002-05-05  1.0  3   test  FOO\n",
       "3  1.0 2002-05-05  1.0  3  train  FOO>"
      ]
     },
     "execution_count": 16,
     "metadata": {},
     "output_type": "execute_result"
    }
   ],
   "source": [
    "df.abs"
   ]
  },
  {
   "cell_type": "code",
   "execution_count": 23,
   "id": "d68266d7",
   "metadata": {},
   "outputs": [
    {
     "data": {
      "text/plain": [
       "0    2.0\n",
       "1    2.0\n",
       "2    2.0\n",
       "3    2.0\n",
       "Name: A, dtype: float64"
      ]
     },
     "execution_count": 23,
     "metadata": {},
     "output_type": "execute_result"
    }
   ],
   "source": [
    "df.A.add(1)"
   ]
  },
  {
   "cell_type": "code",
   "execution_count": 20,
   "id": "f5b46d67",
   "metadata": {},
   "outputs": [
    {
     "data": {
      "text/html": [
       "<div>\n",
       "<style scoped>\n",
       "    .dataframe tbody tr th:only-of-type {\n",
       "        vertical-align: middle;\n",
       "    }\n",
       "\n",
       "    .dataframe tbody tr th {\n",
       "        vertical-align: top;\n",
       "    }\n",
       "\n",
       "    .dataframe thead th {\n",
       "        text-align: right;\n",
       "    }\n",
       "</style>\n",
       "<table border=\"1\" class=\"dataframe\">\n",
       "  <thead>\n",
       "    <tr style=\"text-align: right;\">\n",
       "      <th></th>\n",
       "      <th>1A</th>\n",
       "      <th>1B</th>\n",
       "      <th>1C</th>\n",
       "      <th>1D</th>\n",
       "      <th>1E</th>\n",
       "      <th>1F</th>\n",
       "    </tr>\n",
       "  </thead>\n",
       "  <tbody>\n",
       "    <tr>\n",
       "      <th>0</th>\n",
       "      <td>1.0</td>\n",
       "      <td>2002-05-05</td>\n",
       "      <td>1.0</td>\n",
       "      <td>3</td>\n",
       "      <td>test</td>\n",
       "      <td>FOO</td>\n",
       "    </tr>\n",
       "    <tr>\n",
       "      <th>1</th>\n",
       "      <td>1.0</td>\n",
       "      <td>2002-05-05</td>\n",
       "      <td>1.0</td>\n",
       "      <td>3</td>\n",
       "      <td>train</td>\n",
       "      <td>FOO</td>\n",
       "    </tr>\n",
       "    <tr>\n",
       "      <th>2</th>\n",
       "      <td>1.0</td>\n",
       "      <td>2002-05-05</td>\n",
       "      <td>1.0</td>\n",
       "      <td>3</td>\n",
       "      <td>test</td>\n",
       "      <td>FOO</td>\n",
       "    </tr>\n",
       "    <tr>\n",
       "      <th>3</th>\n",
       "      <td>1.0</td>\n",
       "      <td>2002-05-05</td>\n",
       "      <td>1.0</td>\n",
       "      <td>3</td>\n",
       "      <td>train</td>\n",
       "      <td>FOO</td>\n",
       "    </tr>\n",
       "  </tbody>\n",
       "</table>\n",
       "</div>"
      ],
      "text/plain": [
       "    1A         1B   1C  1D     1E   1F\n",
       "0  1.0 2002-05-05  1.0   3   test  FOO\n",
       "1  1.0 2002-05-05  1.0   3  train  FOO\n",
       "2  1.0 2002-05-05  1.0   3   test  FOO\n",
       "3  1.0 2002-05-05  1.0   3  train  FOO"
      ]
     },
     "execution_count": 20,
     "metadata": {},
     "output_type": "execute_result"
    }
   ],
   "source": [
    "df.add_prefix(1)"
   ]
  },
  {
   "cell_type": "code",
   "execution_count": 25,
   "id": "d1f209dd",
   "metadata": {},
   "outputs": [
    {
     "data": {
      "text/html": [
       "<div>\n",
       "<style scoped>\n",
       "    .dataframe tbody tr th:only-of-type {\n",
       "        vertical-align: middle;\n",
       "    }\n",
       "\n",
       "    .dataframe tbody tr th {\n",
       "        vertical-align: top;\n",
       "    }\n",
       "\n",
       "    .dataframe thead th {\n",
       "        text-align: right;\n",
       "    }\n",
       "</style>\n",
       "<table border=\"1\" class=\"dataframe\">\n",
       "  <thead>\n",
       "    <tr style=\"text-align: right;\">\n",
       "      <th></th>\n",
       "      <th>A1</th>\n",
       "      <th>B1</th>\n",
       "      <th>C1</th>\n",
       "      <th>D1</th>\n",
       "      <th>E1</th>\n",
       "      <th>F1</th>\n",
       "    </tr>\n",
       "  </thead>\n",
       "  <tbody>\n",
       "    <tr>\n",
       "      <th>0</th>\n",
       "      <td>1.0</td>\n",
       "      <td>2002-05-05</td>\n",
       "      <td>1.0</td>\n",
       "      <td>3</td>\n",
       "      <td>test</td>\n",
       "      <td>FOO</td>\n",
       "    </tr>\n",
       "    <tr>\n",
       "      <th>1</th>\n",
       "      <td>1.0</td>\n",
       "      <td>2002-05-05</td>\n",
       "      <td>1.0</td>\n",
       "      <td>3</td>\n",
       "      <td>train</td>\n",
       "      <td>FOO</td>\n",
       "    </tr>\n",
       "    <tr>\n",
       "      <th>2</th>\n",
       "      <td>1.0</td>\n",
       "      <td>2002-05-05</td>\n",
       "      <td>1.0</td>\n",
       "      <td>3</td>\n",
       "      <td>test</td>\n",
       "      <td>FOO</td>\n",
       "    </tr>\n",
       "    <tr>\n",
       "      <th>3</th>\n",
       "      <td>1.0</td>\n",
       "      <td>2002-05-05</td>\n",
       "      <td>1.0</td>\n",
       "      <td>3</td>\n",
       "      <td>train</td>\n",
       "      <td>FOO</td>\n",
       "    </tr>\n",
       "  </tbody>\n",
       "</table>\n",
       "</div>"
      ],
      "text/plain": [
       "    A1         B1   C1  D1     E1   F1\n",
       "0  1.0 2002-05-05  1.0   3   test  FOO\n",
       "1  1.0 2002-05-05  1.0   3  train  FOO\n",
       "2  1.0 2002-05-05  1.0   3   test  FOO\n",
       "3  1.0 2002-05-05  1.0   3  train  FOO"
      ]
     },
     "execution_count": 25,
     "metadata": {},
     "output_type": "execute_result"
    }
   ],
   "source": [
    "df.add_suffix(1)"
   ]
  },
  {
   "cell_type": "raw",
   "id": "8b258210",
   "metadata": {},
   "source": [
    "Try This also:\n",
    "\n",
    "df.A                  df.bool\n",
    "df.abs                df.boxplot\n",
    "df.add                df.C\n",
    "df.add_prefix         df.clip\n",
    "df.add_suffix         df.columns\n",
    "df.align              df.copy\n",
    "df.all                df.count\n",
    "df.any                df.combine\n",
    "df.append             df.D\n",
    "df.apply              df.describe\n",
    "df.applymap           df.diff\n",
    "df.B                  df.duplicated"
   ]
  },
  {
   "cell_type": "markdown",
   "id": "1c903377",
   "metadata": {},
   "source": [
    "Viewing data"
   ]
  },
  {
   "cell_type": "code",
   "execution_count": 30,
   "id": "f7e4dc37",
   "metadata": {},
   "outputs": [
    {
     "data": {
      "text/html": [
       "<div>\n",
       "<style scoped>\n",
       "    .dataframe tbody tr th:only-of-type {\n",
       "        vertical-align: middle;\n",
       "    }\n",
       "\n",
       "    .dataframe tbody tr th {\n",
       "        vertical-align: top;\n",
       "    }\n",
       "\n",
       "    .dataframe thead th {\n",
       "        text-align: right;\n",
       "    }\n",
       "</style>\n",
       "<table border=\"1\" class=\"dataframe\">\n",
       "  <thead>\n",
       "    <tr style=\"text-align: right;\">\n",
       "      <th></th>\n",
       "      <th>A</th>\n",
       "      <th>B</th>\n",
       "      <th>C</th>\n",
       "      <th>D</th>\n",
       "      <th>E</th>\n",
       "      <th>F</th>\n",
       "    </tr>\n",
       "  </thead>\n",
       "  <tbody>\n",
       "    <tr>\n",
       "      <th>0</th>\n",
       "      <td>1.0</td>\n",
       "      <td>2002-05-05</td>\n",
       "      <td>1.0</td>\n",
       "      <td>3</td>\n",
       "      <td>test</td>\n",
       "      <td>FOO</td>\n",
       "    </tr>\n",
       "    <tr>\n",
       "      <th>1</th>\n",
       "      <td>1.0</td>\n",
       "      <td>2002-05-05</td>\n",
       "      <td>1.0</td>\n",
       "      <td>3</td>\n",
       "      <td>train</td>\n",
       "      <td>FOO</td>\n",
       "    </tr>\n",
       "    <tr>\n",
       "      <th>2</th>\n",
       "      <td>1.0</td>\n",
       "      <td>2002-05-05</td>\n",
       "      <td>1.0</td>\n",
       "      <td>3</td>\n",
       "      <td>test</td>\n",
       "      <td>FOO</td>\n",
       "    </tr>\n",
       "    <tr>\n",
       "      <th>3</th>\n",
       "      <td>1.0</td>\n",
       "      <td>2002-05-05</td>\n",
       "      <td>1.0</td>\n",
       "      <td>3</td>\n",
       "      <td>train</td>\n",
       "      <td>FOO</td>\n",
       "    </tr>\n",
       "  </tbody>\n",
       "</table>\n",
       "</div>"
      ],
      "text/plain": [
       "     A          B    C  D      E    F\n",
       "0  1.0 2002-05-05  1.0  3   test  FOO\n",
       "1  1.0 2002-05-05  1.0  3  train  FOO\n",
       "2  1.0 2002-05-05  1.0  3   test  FOO\n",
       "3  1.0 2002-05-05  1.0  3  train  FOO"
      ]
     },
     "execution_count": 30,
     "metadata": {},
     "output_type": "execute_result"
    }
   ],
   "source": [
    "df"
   ]
  },
  {
   "cell_type": "code",
   "execution_count": 31,
   "id": "f88b5a74",
   "metadata": {},
   "outputs": [
    {
     "data": {
      "text/html": [
       "<div>\n",
       "<style scoped>\n",
       "    .dataframe tbody tr th:only-of-type {\n",
       "        vertical-align: middle;\n",
       "    }\n",
       "\n",
       "    .dataframe tbody tr th {\n",
       "        vertical-align: top;\n",
       "    }\n",
       "\n",
       "    .dataframe thead th {\n",
       "        text-align: right;\n",
       "    }\n",
       "</style>\n",
       "<table border=\"1\" class=\"dataframe\">\n",
       "  <thead>\n",
       "    <tr style=\"text-align: right;\">\n",
       "      <th></th>\n",
       "      <th>A</th>\n",
       "      <th>B</th>\n",
       "      <th>C</th>\n",
       "      <th>D</th>\n",
       "      <th>E</th>\n",
       "      <th>F</th>\n",
       "    </tr>\n",
       "  </thead>\n",
       "  <tbody>\n",
       "    <tr>\n",
       "      <th>0</th>\n",
       "      <td>1.0</td>\n",
       "      <td>2002-05-05</td>\n",
       "      <td>1.0</td>\n",
       "      <td>3</td>\n",
       "      <td>test</td>\n",
       "      <td>FOO</td>\n",
       "    </tr>\n",
       "    <tr>\n",
       "      <th>1</th>\n",
       "      <td>1.0</td>\n",
       "      <td>2002-05-05</td>\n",
       "      <td>1.0</td>\n",
       "      <td>3</td>\n",
       "      <td>train</td>\n",
       "      <td>FOO</td>\n",
       "    </tr>\n",
       "  </tbody>\n",
       "</table>\n",
       "</div>"
      ],
      "text/plain": [
       "     A          B    C  D      E    F\n",
       "0  1.0 2002-05-05  1.0  3   test  FOO\n",
       "1  1.0 2002-05-05  1.0  3  train  FOO"
      ]
     },
     "execution_count": 31,
     "metadata": {},
     "output_type": "execute_result"
    }
   ],
   "source": [
    "df.head(2)"
   ]
  },
  {
   "cell_type": "code",
   "execution_count": 32,
   "id": "41bac4de",
   "metadata": {},
   "outputs": [
    {
     "data": {
      "text/html": [
       "<div>\n",
       "<style scoped>\n",
       "    .dataframe tbody tr th:only-of-type {\n",
       "        vertical-align: middle;\n",
       "    }\n",
       "\n",
       "    .dataframe tbody tr th {\n",
       "        vertical-align: top;\n",
       "    }\n",
       "\n",
       "    .dataframe thead th {\n",
       "        text-align: right;\n",
       "    }\n",
       "</style>\n",
       "<table border=\"1\" class=\"dataframe\">\n",
       "  <thead>\n",
       "    <tr style=\"text-align: right;\">\n",
       "      <th></th>\n",
       "      <th>A</th>\n",
       "      <th>B</th>\n",
       "      <th>C</th>\n",
       "      <th>D</th>\n",
       "      <th>E</th>\n",
       "      <th>F</th>\n",
       "    </tr>\n",
       "  </thead>\n",
       "  <tbody>\n",
       "    <tr>\n",
       "      <th>2</th>\n",
       "      <td>1.0</td>\n",
       "      <td>2002-05-05</td>\n",
       "      <td>1.0</td>\n",
       "      <td>3</td>\n",
       "      <td>test</td>\n",
       "      <td>FOO</td>\n",
       "    </tr>\n",
       "    <tr>\n",
       "      <th>3</th>\n",
       "      <td>1.0</td>\n",
       "      <td>2002-05-05</td>\n",
       "      <td>1.0</td>\n",
       "      <td>3</td>\n",
       "      <td>train</td>\n",
       "      <td>FOO</td>\n",
       "    </tr>\n",
       "  </tbody>\n",
       "</table>\n",
       "</div>"
      ],
      "text/plain": [
       "     A          B    C  D      E    F\n",
       "2  1.0 2002-05-05  1.0  3   test  FOO\n",
       "3  1.0 2002-05-05  1.0  3  train  FOO"
      ]
     },
     "execution_count": 32,
     "metadata": {},
     "output_type": "execute_result"
    }
   ],
   "source": [
    "df.tail(2)"
   ]
  },
  {
   "cell_type": "code",
   "execution_count": 33,
   "id": "342a78c9",
   "metadata": {},
   "outputs": [
    {
     "data": {
      "text/plain": [
       "Int64Index([0, 1, 2, 3], dtype='int64')"
      ]
     },
     "execution_count": 33,
     "metadata": {},
     "output_type": "execute_result"
    }
   ],
   "source": [
    "df.index"
   ]
  },
  {
   "cell_type": "code",
   "execution_count": 34,
   "id": "9751a6e0",
   "metadata": {},
   "outputs": [
    {
     "data": {
      "text/plain": [
       "Index(['A', 'B', 'C', 'D', 'E', 'F'], dtype='object')"
      ]
     },
     "execution_count": 34,
     "metadata": {},
     "output_type": "execute_result"
    }
   ],
   "source": [
    "df.columns"
   ]
  },
  {
   "cell_type": "code",
   "execution_count": 36,
   "id": "5b94c105",
   "metadata": {},
   "outputs": [
    {
     "data": {
      "text/plain": [
       "array([[-0.24803527, -0.78998148,  0.05009632,  0.22693751],\n",
       "       [ 1.86864596,  1.11687304,  2.09026978,  0.98398216],\n",
       "       [ 0.76724616, -0.65453955, -0.11108586,  0.75267279],\n",
       "       [-0.99438453,  0.55911721,  0.38974837, -1.74878263],\n",
       "       [-0.16436698,  2.57190694,  0.44376955,  0.21833275],\n",
       "       [ 0.64483292, -2.4243816 , -0.43236148,  0.33854776]])"
      ]
     },
     "execution_count": 36,
     "metadata": {},
     "output_type": "execute_result"
    }
   ],
   "source": [
    "# Numpy representation\n",
    "dataset.to_numpy()"
   ]
  },
  {
   "cell_type": "markdown",
   "id": "27beebaa",
   "metadata": {},
   "source": [
    "statistic summary"
   ]
  },
  {
   "cell_type": "code",
   "execution_count": 37,
   "id": "2740714b",
   "metadata": {},
   "outputs": [
    {
     "data": {
      "text/html": [
       "<div>\n",
       "<style scoped>\n",
       "    .dataframe tbody tr th:only-of-type {\n",
       "        vertical-align: middle;\n",
       "    }\n",
       "\n",
       "    .dataframe tbody tr th {\n",
       "        vertical-align: top;\n",
       "    }\n",
       "\n",
       "    .dataframe thead th {\n",
       "        text-align: right;\n",
       "    }\n",
       "</style>\n",
       "<table border=\"1\" class=\"dataframe\">\n",
       "  <thead>\n",
       "    <tr style=\"text-align: right;\">\n",
       "      <th></th>\n",
       "      <th>A</th>\n",
       "      <th>B</th>\n",
       "      <th>C</th>\n",
       "      <th>D</th>\n",
       "    </tr>\n",
       "  </thead>\n",
       "  <tbody>\n",
       "    <tr>\n",
       "      <th>count</th>\n",
       "      <td>6.000000</td>\n",
       "      <td>6.000000</td>\n",
       "      <td>6.000000</td>\n",
       "      <td>6.000000</td>\n",
       "    </tr>\n",
       "    <tr>\n",
       "      <th>mean</th>\n",
       "      <td>0.312323</td>\n",
       "      <td>0.063166</td>\n",
       "      <td>0.405073</td>\n",
       "      <td>0.128615</td>\n",
       "    </tr>\n",
       "    <tr>\n",
       "      <th>std</th>\n",
       "      <td>0.998837</td>\n",
       "      <td>1.736715</td>\n",
       "      <td>0.887169</td>\n",
       "      <td>0.970310</td>\n",
       "    </tr>\n",
       "    <tr>\n",
       "      <th>min</th>\n",
       "      <td>-0.994385</td>\n",
       "      <td>-2.424382</td>\n",
       "      <td>-0.432361</td>\n",
       "      <td>-1.748783</td>\n",
       "    </tr>\n",
       "    <tr>\n",
       "      <th>25%</th>\n",
       "      <td>-0.227118</td>\n",
       "      <td>-0.756121</td>\n",
       "      <td>-0.070790</td>\n",
       "      <td>0.220484</td>\n",
       "    </tr>\n",
       "    <tr>\n",
       "      <th>50%</th>\n",
       "      <td>0.240233</td>\n",
       "      <td>-0.047711</td>\n",
       "      <td>0.219922</td>\n",
       "      <td>0.282743</td>\n",
       "    </tr>\n",
       "    <tr>\n",
       "      <th>75%</th>\n",
       "      <td>0.736643</td>\n",
       "      <td>0.977434</td>\n",
       "      <td>0.430264</td>\n",
       "      <td>0.649142</td>\n",
       "    </tr>\n",
       "    <tr>\n",
       "      <th>max</th>\n",
       "      <td>1.868646</td>\n",
       "      <td>2.571907</td>\n",
       "      <td>2.090270</td>\n",
       "      <td>0.983982</td>\n",
       "    </tr>\n",
       "  </tbody>\n",
       "</table>\n",
       "</div>"
      ],
      "text/plain": [
       "              A         B         C         D\n",
       "count  6.000000  6.000000  6.000000  6.000000\n",
       "mean   0.312323  0.063166  0.405073  0.128615\n",
       "std    0.998837  1.736715  0.887169  0.970310\n",
       "min   -0.994385 -2.424382 -0.432361 -1.748783\n",
       "25%   -0.227118 -0.756121 -0.070790  0.220484\n",
       "50%    0.240233 -0.047711  0.219922  0.282743\n",
       "75%    0.736643  0.977434  0.430264  0.649142\n",
       "max    1.868646  2.571907  2.090270  0.983982"
      ]
     },
     "execution_count": 37,
     "metadata": {},
     "output_type": "execute_result"
    }
   ],
   "source": [
    "dataset.describe()"
   ]
  },
  {
   "cell_type": "code",
   "execution_count": 38,
   "id": "d24b81fd",
   "metadata": {},
   "outputs": [
    {
     "data": {
      "text/html": [
       "<div>\n",
       "<style scoped>\n",
       "    .dataframe tbody tr th:only-of-type {\n",
       "        vertical-align: middle;\n",
       "    }\n",
       "\n",
       "    .dataframe tbody tr th {\n",
       "        vertical-align: top;\n",
       "    }\n",
       "\n",
       "    .dataframe thead th {\n",
       "        text-align: right;\n",
       "    }\n",
       "</style>\n",
       "<table border=\"1\" class=\"dataframe\">\n",
       "  <thead>\n",
       "    <tr style=\"text-align: right;\">\n",
       "      <th></th>\n",
       "      <th>A</th>\n",
       "      <th>C</th>\n",
       "      <th>D</th>\n",
       "    </tr>\n",
       "  </thead>\n",
       "  <tbody>\n",
       "    <tr>\n",
       "      <th>count</th>\n",
       "      <td>4.0</td>\n",
       "      <td>4.0</td>\n",
       "      <td>4.0</td>\n",
       "    </tr>\n",
       "    <tr>\n",
       "      <th>mean</th>\n",
       "      <td>1.0</td>\n",
       "      <td>1.0</td>\n",
       "      <td>3.0</td>\n",
       "    </tr>\n",
       "    <tr>\n",
       "      <th>std</th>\n",
       "      <td>0.0</td>\n",
       "      <td>0.0</td>\n",
       "      <td>0.0</td>\n",
       "    </tr>\n",
       "    <tr>\n",
       "      <th>min</th>\n",
       "      <td>1.0</td>\n",
       "      <td>1.0</td>\n",
       "      <td>3.0</td>\n",
       "    </tr>\n",
       "    <tr>\n",
       "      <th>25%</th>\n",
       "      <td>1.0</td>\n",
       "      <td>1.0</td>\n",
       "      <td>3.0</td>\n",
       "    </tr>\n",
       "    <tr>\n",
       "      <th>50%</th>\n",
       "      <td>1.0</td>\n",
       "      <td>1.0</td>\n",
       "      <td>3.0</td>\n",
       "    </tr>\n",
       "    <tr>\n",
       "      <th>75%</th>\n",
       "      <td>1.0</td>\n",
       "      <td>1.0</td>\n",
       "      <td>3.0</td>\n",
       "    </tr>\n",
       "    <tr>\n",
       "      <th>max</th>\n",
       "      <td>1.0</td>\n",
       "      <td>1.0</td>\n",
       "      <td>3.0</td>\n",
       "    </tr>\n",
       "  </tbody>\n",
       "</table>\n",
       "</div>"
      ],
      "text/plain": [
       "         A    C    D\n",
       "count  4.0  4.0  4.0\n",
       "mean   1.0  1.0  3.0\n",
       "std    0.0  0.0  0.0\n",
       "min    1.0  1.0  3.0\n",
       "25%    1.0  1.0  3.0\n",
       "50%    1.0  1.0  3.0\n",
       "75%    1.0  1.0  3.0\n",
       "max    1.0  1.0  3.0"
      ]
     },
     "execution_count": 38,
     "metadata": {},
     "output_type": "execute_result"
    }
   ],
   "source": [
    "df.describe()"
   ]
  },
  {
   "cell_type": "code",
   "execution_count": 42,
   "id": "ad0756b1",
   "metadata": {},
   "outputs": [
    {
     "data": {
      "text/html": [
       "<div>\n",
       "<style scoped>\n",
       "    .dataframe tbody tr th:only-of-type {\n",
       "        vertical-align: middle;\n",
       "    }\n",
       "\n",
       "    .dataframe tbody tr th {\n",
       "        vertical-align: top;\n",
       "    }\n",
       "\n",
       "    .dataframe thead th {\n",
       "        text-align: right;\n",
       "    }\n",
       "</style>\n",
       "<table border=\"1\" class=\"dataframe\">\n",
       "  <thead>\n",
       "    <tr style=\"text-align: right;\">\n",
       "      <th></th>\n",
       "      <th>D</th>\n",
       "      <th>C</th>\n",
       "      <th>B</th>\n",
       "      <th>A</th>\n",
       "    </tr>\n",
       "  </thead>\n",
       "  <tbody>\n",
       "    <tr>\n",
       "      <th>2002-05-05</th>\n",
       "      <td>0.226938</td>\n",
       "      <td>0.050096</td>\n",
       "      <td>-0.789981</td>\n",
       "      <td>-0.248035</td>\n",
       "    </tr>\n",
       "    <tr>\n",
       "      <th>2002-05-06</th>\n",
       "      <td>0.983982</td>\n",
       "      <td>2.090270</td>\n",
       "      <td>1.116873</td>\n",
       "      <td>1.868646</td>\n",
       "    </tr>\n",
       "    <tr>\n",
       "      <th>2002-05-07</th>\n",
       "      <td>0.752673</td>\n",
       "      <td>-0.111086</td>\n",
       "      <td>-0.654540</td>\n",
       "      <td>0.767246</td>\n",
       "    </tr>\n",
       "    <tr>\n",
       "      <th>2002-05-08</th>\n",
       "      <td>-1.748783</td>\n",
       "      <td>0.389748</td>\n",
       "      <td>0.559117</td>\n",
       "      <td>-0.994385</td>\n",
       "    </tr>\n",
       "    <tr>\n",
       "      <th>2002-05-09</th>\n",
       "      <td>0.218333</td>\n",
       "      <td>0.443770</td>\n",
       "      <td>2.571907</td>\n",
       "      <td>-0.164367</td>\n",
       "    </tr>\n",
       "    <tr>\n",
       "      <th>2002-05-10</th>\n",
       "      <td>0.338548</td>\n",
       "      <td>-0.432361</td>\n",
       "      <td>-2.424382</td>\n",
       "      <td>0.644833</td>\n",
       "    </tr>\n",
       "  </tbody>\n",
       "</table>\n",
       "</div>"
      ],
      "text/plain": [
       "                   D         C         B         A\n",
       "2002-05-05  0.226938  0.050096 -0.789981 -0.248035\n",
       "2002-05-06  0.983982  2.090270  1.116873  1.868646\n",
       "2002-05-07  0.752673 -0.111086 -0.654540  0.767246\n",
       "2002-05-08 -1.748783  0.389748  0.559117 -0.994385\n",
       "2002-05-09  0.218333  0.443770  2.571907 -0.164367\n",
       "2002-05-10  0.338548 -0.432361 -2.424382  0.644833"
      ]
     },
     "execution_count": 42,
     "metadata": {},
     "output_type": "execute_result"
    }
   ],
   "source": [
    "dataset.sort_index(axis=1, ascending=False)"
   ]
  },
  {
   "cell_type": "code",
   "execution_count": 43,
   "id": "de11c2a8",
   "metadata": {},
   "outputs": [
    {
     "data": {
      "text/html": [
       "<div>\n",
       "<style scoped>\n",
       "    .dataframe tbody tr th:only-of-type {\n",
       "        vertical-align: middle;\n",
       "    }\n",
       "\n",
       "    .dataframe tbody tr th {\n",
       "        vertical-align: top;\n",
       "    }\n",
       "\n",
       "    .dataframe thead th {\n",
       "        text-align: right;\n",
       "    }\n",
       "</style>\n",
       "<table border=\"1\" class=\"dataframe\">\n",
       "  <thead>\n",
       "    <tr style=\"text-align: right;\">\n",
       "      <th></th>\n",
       "      <th>A</th>\n",
       "      <th>B</th>\n",
       "      <th>C</th>\n",
       "      <th>D</th>\n",
       "    </tr>\n",
       "  </thead>\n",
       "  <tbody>\n",
       "    <tr>\n",
       "      <th>2002-05-10</th>\n",
       "      <td>0.644833</td>\n",
       "      <td>-2.424382</td>\n",
       "      <td>-0.432361</td>\n",
       "      <td>0.338548</td>\n",
       "    </tr>\n",
       "    <tr>\n",
       "      <th>2002-05-05</th>\n",
       "      <td>-0.248035</td>\n",
       "      <td>-0.789981</td>\n",
       "      <td>0.050096</td>\n",
       "      <td>0.226938</td>\n",
       "    </tr>\n",
       "    <tr>\n",
       "      <th>2002-05-07</th>\n",
       "      <td>0.767246</td>\n",
       "      <td>-0.654540</td>\n",
       "      <td>-0.111086</td>\n",
       "      <td>0.752673</td>\n",
       "    </tr>\n",
       "    <tr>\n",
       "      <th>2002-05-08</th>\n",
       "      <td>-0.994385</td>\n",
       "      <td>0.559117</td>\n",
       "      <td>0.389748</td>\n",
       "      <td>-1.748783</td>\n",
       "    </tr>\n",
       "    <tr>\n",
       "      <th>2002-05-06</th>\n",
       "      <td>1.868646</td>\n",
       "      <td>1.116873</td>\n",
       "      <td>2.090270</td>\n",
       "      <td>0.983982</td>\n",
       "    </tr>\n",
       "    <tr>\n",
       "      <th>2002-05-09</th>\n",
       "      <td>-0.164367</td>\n",
       "      <td>2.571907</td>\n",
       "      <td>0.443770</td>\n",
       "      <td>0.218333</td>\n",
       "    </tr>\n",
       "  </tbody>\n",
       "</table>\n",
       "</div>"
      ],
      "text/plain": [
       "                   A         B         C         D\n",
       "2002-05-10  0.644833 -2.424382 -0.432361  0.338548\n",
       "2002-05-05 -0.248035 -0.789981  0.050096  0.226938\n",
       "2002-05-07  0.767246 -0.654540 -0.111086  0.752673\n",
       "2002-05-08 -0.994385  0.559117  0.389748 -1.748783\n",
       "2002-05-06  1.868646  1.116873  2.090270  0.983982\n",
       "2002-05-09 -0.164367  2.571907  0.443770  0.218333"
      ]
     },
     "execution_count": 43,
     "metadata": {},
     "output_type": "execute_result"
    }
   ],
   "source": [
    "dataset.sort_values(by='B')"
   ]
  },
  {
   "cell_type": "code",
   "execution_count": 49,
   "id": "9579ce43",
   "metadata": {},
   "outputs": [
    {
     "data": {
      "text/plain": [
       "<pandas.core.indexing._LocIndexer at 0x2e9dddf0a40>"
      ]
     },
     "execution_count": 49,
     "metadata": {},
     "output_type": "execute_result"
    }
   ],
   "source": [
    "dataset.loc()"
   ]
  },
  {
   "cell_type": "code",
   "execution_count": null,
   "id": "f0adb850",
   "metadata": {},
   "outputs": [],
   "source": []
  }
 ],
 "metadata": {
  "kernelspec": {
   "display_name": "Python 3 (ipykernel)",
   "language": "python",
   "name": "python3"
  },
  "language_info": {
   "codemirror_mode": {
    "name": "ipython",
    "version": 3
   },
   "file_extension": ".py",
   "mimetype": "text/x-python",
   "name": "python",
   "nbconvert_exporter": "python",
   "pygments_lexer": "ipython3",
   "version": "3.10.9"
  }
 },
 "nbformat": 4,
 "nbformat_minor": 5
}
